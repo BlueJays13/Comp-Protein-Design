{
 "cells": [
  {
   "cell_type": "markdown",
   "metadata": {},
   "source": [
    "<!--NOTEBOOK_HEADER-->\n",
    "*This notebook contains material from [PyRosetta](https://RosettaCommons.github.io/PyRosetta.notebooks);\n",
    "content is available [on Github](https://github.com/RosettaCommons/PyRosetta.notebooks.git).*"
   ]
  },
  {
   "cell_type": "markdown",
   "metadata": {},
   "source": [
    "<!--NAVIGATION-->\n",
    "< [PyRosettaCluster Tutorial 2. Multiple protocols](http://nbviewer.jupyter.org/github/RosettaCommons/PyRosetta.notebooks/blob/master/notebooks/16.08-PyRosettaCluster-Multiple-protocols.ipynb) | [Contents](toc.ipynb) | [Index](index.ipynb) | [PyRosettaCluster Tutorial 4. Ligand params](http://nbviewer.jupyter.org/github/RosettaCommons/PyRosetta.notebooks/blob/master/notebooks/16.10-PyRosettaCluster-Ligand-params.ipynb) ><p><a href=\"https://colab.research.google.com/github/RosettaCommons/PyRosetta.notebooks/blob/master/notebooks/16.09-PyRosettaCluster-Multiple-decoys.ipynb\"><img align=\"left\" src=\"https://colab.research.google.com/assets/colab-badge.svg\" alt=\"Open in Colab\" title=\"Open in Google Colaboratory\"></a>"
   ]
  },
  {
   "cell_type": "markdown",
   "metadata": {},
   "source": [
    "# PyRosettaCluster Tutorial 3. Multiple decoys\n",
    "\n",
    "PyRosettaCluster Tutorial 3 demonstrates how multiple tasks (specified by `kwargs`) may be run several times (specified by `nstruct`). Additionally, user-provided PyRosetta protocols may `yield` or `return` multiple `Pose` or `PackedPose` objects to be efficiently parallelized on the user's compute resources."
   ]
  },
  {
   "cell_type": "markdown",
   "metadata": {},
   "source": [
    "*Warning*: This notebook uses `pyrosetta.distributed.viewer` code, which runs in `jupyter notebook` and might not run if you're using `jupyterlab`."
   ]
  },
  {
   "cell_type": "markdown",
   "metadata": {},
   "source": [
    "*Note:* This Jupyter notebook uses parallelization and is **not** meant to be executed within a Google Colab environment."
   ]
  },
  {
   "cell_type": "markdown",
   "metadata": {},
   "source": [
    "*Note:* This Jupyter notebook requires the PyRosetta distributed layer which is obtained by building PyRosetta with the `--serialization` flag or installing PyRosetta from the RosettaCommons conda channel \n",
    "\n",
    "**Please see Chapter 16.00 for setup instructions**"
   ]
  },
  {
   "cell_type": "markdown",
   "metadata": {},
   "source": [
    "*Note:* This Jupyter notebook is intended to be run within **Jupyter Lab**, but may still be run as a standalone Jupyter notebook."
   ]
  },
  {
   "cell_type": "markdown",
   "metadata": {},
   "source": [
    "### 1. Import packages"
   ]
  },
  {
   "cell_type": "code",
   "execution_count": 1,
   "metadata": {},
   "outputs": [
    {
     "data": {
      "text/html": [
       "<style>.container { width:100% !important; }</style>"
      ],
      "text/plain": [
       "<IPython.core.display.HTML object>"
      ]
     },
     "metadata": {},
     "output_type": "display_data"
    }
   ],
   "source": [
    "import bz2\n",
    "import glob\n",
    "import logging\n",
    "import os\n",
    "import pyrosetta\n",
    "import pyrosetta.distributed.io as io\n",
    "import pyrosetta.distributed.viewer as viewer\n",
    "\n",
    "from pyrosetta.distributed.cluster import PyRosettaCluster\n",
    "\n",
    "logging.basicConfig(level=logging.INFO)"
   ]
  },
  {
   "cell_type": "markdown",
   "metadata": {},
   "source": [
    "### 2. Initialize a compute cluster using `dask`\n",
    "\n",
    "See Tutorial 1A for review:\n",
    "1. Click the \"Dask\" tab in Jupyter Lab <i>(arrow, left)</i>\n",
    "2. Click the \"+ NEW\" button to launch a new compute cluster <i>(arrow, lower)</i>\n",
    "3. Once the cluster has started, click the brackets to \"inject client code\" for the cluster into your notebook\n",
    "\n",
    "Inject client code here, then run the cell:"
   ]
  },
  {
   "cell_type": "code",
   "execution_count": 2,
   "metadata": {},
   "outputs": [
    {
     "data": {
      "text/html": [
       "<table style=\"border: 2px solid white;\">\n",
       "<tr>\n",
       "<td style=\"vertical-align: top; border: 0px solid white\">\n",
       "<h3 style=\"text-align: left;\">Client</h3>\n",
       "<ul style=\"text-align: left; list-style: none; margin: 0; padding: 0;\">\n",
       "  <li><b>Scheduler: </b>tcp://127.0.0.1:40329</li>\n",
       "  <li><b>Dashboard: </b><a href='http://127.0.0.1:8787/status' target='_blank'>http://127.0.0.1:8787/status</a>\n",
       "</ul>\n",
       "</td>\n",
       "<td style=\"vertical-align: top; border: 0px solid white\">\n",
       "<h3 style=\"text-align: left;\">Cluster</h3>\n",
       "<ul style=\"text-align: left; list-style:none; margin: 0; padding: 0;\">\n",
       "  <li><b>Workers: </b>4</li>\n",
       "  <li><b>Cores: </b>4</li>\n",
       "  <li><b>Memory: </b>16.63 GB</li>\n",
       "</ul>\n",
       "</td>\n",
       "</tr>\n",
       "</table>"
      ],
      "text/plain": [
       "<Client: 'tcp://127.0.0.1:40329' processes=4 threads=4, memory=16.63 GB>"
      ]
     },
     "execution_count": 2,
     "metadata": {},
     "output_type": "execute_result"
    }
   ],
   "source": [
    "if not os.getenv(\"DEBUG\"):\n",
    "    from dask.distributed import Client\n",
    "\n",
    "    client = Client(\"tcp://127.0.0.1:40329\")\n",
    "else:\n",
    "    client = None\n",
    "client"
   ]
  },
  {
   "cell_type": "markdown",
   "metadata": {},
   "source": [
    "### 3. Define the user-provided PyRosetta protocols that returns multiple `Pose` or `PackedPose` objects:\n",
    "\n",
    "PyRosettaCluster automatically passes returned or yielded `Pose` or `PackedPose` objects through the user-provided PyRosetta protocols. If a protocol produces `n` poses, the subsequent protocol runs `n` times, once for each pose. By default, the `Pose` and `PackedPose` objects returned by the final protocol are written to disk.\n",
    "\n",
    "Multiple `Pose` and `PackedPose` objects may be yielded iteratively, or returned in a `list` or `tuple`:\n",
    "\n",
    "To `yield` multiple poses:\n",
    "```\n",
    "for _ in range(n_results):\n",
    "    yield backrub(ppose.pose.clone())\n",
    "```\n",
    "\n",
    "Note: `yield` does not add the yielded object to the queue for parallelization until all objects are yielded.\n",
    "\n",
    "To `return` multiple poses in a `list`:\n",
    "```\n",
    "return list_of_poses\n",
    "```\n",
    "\n",
    "To `return` multiple poses in a `tuple`:\n",
    "```\n",
    "return pose1, pose2, pose3\n",
    "```"
   ]
  },
  {
   "cell_type": "code",
   "execution_count": 3,
   "metadata": {},
   "outputs": [],
   "source": [
    "def protocol1(packed_pose_in=None, **kwargs):\n",
    "    \"\"\"\n",
    "    Performs backrub on a `PackedPose` object, which may be (a) input \n",
    "    to the function or  (b) accessed through the 's' `kwargs` keyword\n",
    "    argument.\n",
    "    \n",
    "    Args:\n",
    "        packed_pose: A `PackedPose` object. Optional.\n",
    "        **kwargs: PyRosettaCluster keyword arguments.\n",
    "\n",
    "    Returns:\n",
    "        Multiple `PackedPose` objects.\n",
    "    \"\"\"\n",
    "    import pyrosetta\n",
    "    import pyrosetta.distributed.io as io\n",
    "    import pyrosetta.distributed.tasks.rosetta_scripts as rosetta_scripts\n",
    "    \n",
    "    if packed_pose_in == None:\n",
    "        packed_pose_in = io.pose_from_file(kwargs[\"s\"])\n",
    "        \n",
    "    xml = \"\"\"\n",
    "        <ROSETTASCRIPTS>\n",
    "          <MOVERS>\n",
    "            <Backrub name=\"backrub\" pivot_residues=\"22A,23A,24A,25A,26A,27A\"/>\n",
    "          </MOVERS>\n",
    "          <PROTOCOLS>\n",
    "            <Add mover=\"backrub\"/>\n",
    "          </PROTOCOLS>\n",
    "        </ROSETTASCRIPTS>\n",
    "        \"\"\"\n",
    "    backrub = rosetta_scripts.SingleoutputRosettaScriptsTask(xml)\n",
    "\n",
    "    n_results = 3\n",
    "    for _ in range(n_results):\n",
    "        yield backrub(packed_pose_in.pose.clone())\n",
    "\n",
    "\n",
    "def protocol2(packed_pose_in, **kwargs):\n",
    "    \"\"\"\n",
    "    Performs sequence design using 'ALLAAxc' resfile command on input \n",
    "    `kwargs['resnums']` residue numbers on the input `PackedPose` object.\n",
    "    \n",
    "    Args:\n",
    "        packed_pose_in: A `PackedPose` object to be designed.\n",
    "        **kwargs: PyRosettaCluster keyword arguments.\n",
    "\n",
    "    Returns:\n",
    "        A `PackedPose` object that has been designed.\n",
    "    \"\"\"\n",
    "    import pyrosetta\n",
    "    import pyrosetta.distributed.tasks.rosetta_scripts as rosetta_scripts\n",
    "\n",
    "    xml = \"\"\"\n",
    "        <ROSETTASCRIPTS>\n",
    "          <RESIDUE_SELECTORS>\n",
    "            <Index name=\"my_resnums\" resnums=\"{resnums}\" />\n",
    "            <Not name=\"not_my_resnums\" selector=\"my_resnums\" />\n",
    "          </RESIDUE_SELECTORS>\n",
    "          <TASKOPERATIONS>\n",
    "            <ResfileCommandOperation name=\"design\" command=\"ALLAAxc\" residue_selector=\"my_resnums\"/>\n",
    "            <OperateOnResidueSubset name=\"prevent_repacking\" selector=\"not_my_resnums\">\n",
    "              <PreventRepackingRLT/>\n",
    "            </OperateOnResidueSubset>\n",
    "          </TASKOPERATIONS>\n",
    "          <MOVERS>\n",
    "            <PackRotamersMover name=\"design_mover\" task_operations=\"design,prevent_repacking\"/>\n",
    "          </MOVERS>\n",
    "          <PROTOCOLS>\n",
    "            <Add mover=\"design_mover\"/>\n",
    "          </PROTOCOLS>\n",
    "        </ROSETTASCRIPTS>\n",
    "        \"\"\".format(resnums=kwargs[\"resnums\"])\n",
    "    \n",
    "    return rosetta_scripts.SingleoutputRosettaScriptsTask(xml)(packed_pose_in.pose.clone())"
   ]
  },
  {
   "cell_type": "markdown",
   "metadata": {},
   "source": [
    "### 4. Define the user-provided tasks as `kwargs`:\n",
    "\n",
    "Returning a list of dictionaries or yielding dictionaries allows the user to run through the chain of user-provided PyRosetta protocols multiple times with different inputs, and the unique `kwargs` can be accessed within each user-provided PyRosetta protocol."
   ]
  },
  {
   "cell_type": "code",
   "execution_count": 4,
   "metadata": {},
   "outputs": [],
   "source": [
    "dict_of_options = {\n",
    "    \"-out:level\": \"300\",\n",
    "    \"-multithreading:total_threads\": \"1\",\n",
    "}\n",
    "\n",
    "def create_tasks():\n",
    "    for resnum in range(22, 28):\n",
    "        yield {\n",
    "            \"options\": \"-ex1\",\n",
    "            \"extra_options\": dict_of_options,\n",
    "            \"set_logging_handler\": \"interactive\",\n",
    "            \"s\": os.path.join(os.getcwd(), \"inputs\", \"1QYS.pdb\"),\n",
    "            \"resnums\": str(resnum) + \"A\",\n",
    "        }"
   ]
  },
  {
   "cell_type": "markdown",
   "metadata": {},
   "source": [
    "### 5. Launch the original simulation using `distribute()`:\n",
    "\n",
    "We also will use the `PyRosettaCluster` `nstruct` attribute, which is an `int` object specifying the number of repeats of the first user-provided PyRosetta protocol."
   ]
  },
  {
   "cell_type": "code",
   "execution_count": 5,
   "metadata": {},
   "outputs": [
    {
     "name": "stderr",
     "output_type": "stream",
     "text": [
      "INFO:pyrosetta.distributed:maybe_init performing pyrosetta initialization: {'options': '-run:constant_seed 1 -multithreading:total_threads 1', 'extra_options': '-mute all', 'silent': True}\n",
      "INFO:pyrosetta.rosetta:Found rosetta database at: /shared/home/jklima/.conda/envs/jupyterlab/lib/python3.7/site-packages/pyrosetta/database; using it....\n",
      "INFO:pyrosetta.rosetta:PyRosetta-4 2020 [Rosetta PyRosetta4.conda.linux.cxx11thread.serialization.CentOS.python37.Release 2020.15+release.3121c734db02d2b62dd1974dcb8daface3f50057 2020-04-10T09:29:24] retrieved from: http://www.pyrosetta.org\n",
      "(C) Copyright Rosetta Commons Member Institutions. Created in JHU by Sergey Lyskov and PyRosetta Team.\n"
     ]
    }
   ],
   "source": [
    "if not os.getenv(\"DEBUG\"):\n",
    "    output_path = os.path.join(os.getcwd(), \"outputs_3\")\n",
    "\n",
    "    PyRosettaCluster(\n",
    "        tasks=create_tasks,\n",
    "        client=client,\n",
    "        scratch_dir=output_path,\n",
    "        output_path=output_path,\n",
    "        nstruct=2,\n",
    "    ).distribute(protocols=[protocol1, protocol2, protocol1])"
   ]
  },
  {
   "cell_type": "markdown",
   "metadata": {},
   "source": [
    "While jobs are running, you may monitor their progress using the dask dashboard diagnostics within Jupyter Lab!\n",
    "\n",
    "Initially there are `12` simulations running in parallel: `6` tasks from the `create_tasks` generator, with each task executed using `nstruct=2`. After `protocol1` runs to completion, more `PackedPose` objects are added to the queue. After `protocol2` runs to completion, more `PackedPose` objects are added to the queue. The process continues until all tasks are run through the chain of user-provided PyRosetta protocols."
   ]
  },
  {
   "cell_type": "markdown",
   "metadata": {},
   "source": [
    "### 6. Visualize the resulting decoys:"
   ]
  },
  {
   "cell_type": "markdown",
   "metadata": {},
   "source": [
    "Gather output decoys from disk into memory:"
   ]
  },
  {
   "cell_type": "code",
   "execution_count": 8,
   "metadata": {},
   "outputs": [
    {
     "name": "stderr",
     "output_type": "stream",
     "text": [
      "INFO:root:Percent done loading: 0.9 %\n",
      "INFO:root:Percent done loading: 1.9 %\n",
      "INFO:root:Percent done loading: 2.8 %\n",
      "INFO:root:Percent done loading: 3.7 %\n",
      "INFO:root:Percent done loading: 4.6 %\n",
      "INFO:root:Percent done loading: 5.6 %\n",
      "INFO:root:Percent done loading: 6.5 %\n",
      "INFO:root:Percent done loading: 7.4 %\n",
      "INFO:root:Percent done loading: 8.3 %\n",
      "INFO:root:Percent done loading: 9.3 %\n",
      "INFO:root:Percent done loading: 10.2 %\n",
      "INFO:root:Percent done loading: 11.1 %\n",
      "INFO:root:Percent done loading: 12.0 %\n",
      "INFO:root:Percent done loading: 13.0 %\n",
      "INFO:root:Percent done loading: 13.9 %\n",
      "INFO:root:Percent done loading: 14.8 %\n",
      "INFO:root:Percent done loading: 15.7 %\n",
      "INFO:root:Percent done loading: 16.7 %\n",
      "INFO:root:Percent done loading: 17.6 %\n",
      "INFO:root:Percent done loading: 18.5 %\n",
      "INFO:root:Percent done loading: 19.4 %\n",
      "INFO:root:Percent done loading: 20.4 %\n",
      "INFO:root:Percent done loading: 21.3 %\n",
      "INFO:root:Percent done loading: 22.2 %\n",
      "INFO:root:Percent done loading: 23.1 %\n",
      "INFO:root:Percent done loading: 24.1 %\n",
      "INFO:root:Percent done loading: 25.0 %\n",
      "INFO:root:Percent done loading: 25.9 %\n",
      "INFO:root:Percent done loading: 26.9 %\n",
      "INFO:root:Percent done loading: 27.8 %\n",
      "INFO:root:Percent done loading: 28.7 %\n",
      "INFO:root:Percent done loading: 29.6 %\n",
      "INFO:root:Percent done loading: 30.6 %\n",
      "INFO:root:Percent done loading: 31.5 %\n",
      "INFO:root:Percent done loading: 32.4 %\n",
      "INFO:root:Percent done loading: 33.3 %\n",
      "INFO:root:Percent done loading: 34.3 %\n",
      "INFO:root:Percent done loading: 35.2 %\n",
      "INFO:root:Percent done loading: 36.1 %\n",
      "INFO:root:Percent done loading: 37.0 %\n",
      "INFO:root:Percent done loading: 38.0 %\n",
      "INFO:root:Percent done loading: 38.9 %\n",
      "INFO:root:Percent done loading: 39.8 %\n",
      "INFO:root:Percent done loading: 40.7 %\n",
      "INFO:root:Percent done loading: 41.7 %\n",
      "INFO:root:Percent done loading: 42.6 %\n",
      "INFO:root:Percent done loading: 43.5 %\n",
      "INFO:root:Percent done loading: 44.4 %\n",
      "INFO:root:Percent done loading: 45.4 %\n",
      "INFO:root:Percent done loading: 46.3 %\n",
      "INFO:root:Percent done loading: 47.2 %\n",
      "INFO:root:Percent done loading: 48.1 %\n",
      "INFO:root:Percent done loading: 49.1 %\n",
      "INFO:root:Percent done loading: 50.0 %\n",
      "INFO:root:Percent done loading: 50.9 %\n",
      "INFO:root:Percent done loading: 51.9 %\n",
      "INFO:root:Percent done loading: 52.8 %\n",
      "INFO:root:Percent done loading: 53.7 %\n",
      "INFO:root:Percent done loading: 54.6 %\n",
      "INFO:root:Percent done loading: 55.6 %\n",
      "INFO:root:Percent done loading: 56.5 %\n",
      "INFO:root:Percent done loading: 57.4 %\n",
      "INFO:root:Percent done loading: 58.3 %\n",
      "INFO:root:Percent done loading: 59.3 %\n",
      "INFO:root:Percent done loading: 60.2 %\n",
      "INFO:root:Percent done loading: 61.1 %\n",
      "INFO:root:Percent done loading: 62.0 %\n",
      "INFO:root:Percent done loading: 63.0 %\n",
      "INFO:root:Percent done loading: 63.9 %\n",
      "INFO:root:Percent done loading: 64.8 %\n",
      "INFO:root:Percent done loading: 65.7 %\n",
      "INFO:root:Percent done loading: 66.7 %\n",
      "INFO:root:Percent done loading: 67.6 %\n",
      "INFO:root:Percent done loading: 68.5 %\n",
      "INFO:root:Percent done loading: 69.4 %\n",
      "INFO:root:Percent done loading: 70.4 %\n",
      "INFO:root:Percent done loading: 71.3 %\n",
      "INFO:root:Percent done loading: 72.2 %\n",
      "INFO:root:Percent done loading: 73.1 %\n",
      "INFO:root:Percent done loading: 74.1 %\n",
      "INFO:root:Percent done loading: 75.0 %\n",
      "INFO:root:Percent done loading: 75.9 %\n",
      "INFO:root:Percent done loading: 76.9 %\n",
      "INFO:root:Percent done loading: 77.8 %\n",
      "INFO:root:Percent done loading: 78.7 %\n",
      "INFO:root:Percent done loading: 79.6 %\n",
      "INFO:root:Percent done loading: 80.6 %\n",
      "INFO:root:Percent done loading: 81.5 %\n",
      "INFO:root:Percent done loading: 82.4 %\n",
      "INFO:root:Percent done loading: 83.3 %\n",
      "INFO:root:Percent done loading: 84.3 %\n",
      "INFO:root:Percent done loading: 85.2 %\n",
      "INFO:root:Percent done loading: 86.1 %\n",
      "INFO:root:Percent done loading: 87.0 %\n",
      "INFO:root:Percent done loading: 88.0 %\n",
      "INFO:root:Percent done loading: 88.9 %\n",
      "INFO:root:Percent done loading: 89.8 %\n",
      "INFO:root:Percent done loading: 90.7 %\n",
      "INFO:root:Percent done loading: 91.7 %\n",
      "INFO:root:Percent done loading: 92.6 %\n",
      "INFO:root:Percent done loading: 93.5 %\n",
      "INFO:root:Percent done loading: 94.4 %\n",
      "INFO:root:Percent done loading: 95.4 %\n",
      "INFO:root:Percent done loading: 96.3 %\n",
      "INFO:root:Percent done loading: 97.2 %\n",
      "INFO:root:Percent done loading: 98.1 %\n",
      "INFO:root:Percent done loading: 99.1 %\n",
      "INFO:root:Percent done loading: 100.0 %\n"
     ]
    }
   ],
   "source": [
    "if not os.getenv(\"DEBUG\"):\n",
    "    results = glob.glob(os.path.join(output_path, \"decoys\", \"*\", \"*.pdb.bz2\"))\n",
    "    packed_poses = []\n",
    "    for i, bz2file in enumerate(results, start=1):\n",
    "        with open(bz2file, \"rb\") as f:\n",
    "            packed_poses.append(io.pose_from_pdbstring(bz2.decompress(f.read()).decode()))\n",
    "        logging.info(\"Percent done loading: {0:0.1f} %\".format((i * 100.) / len(results)))"
   ]
  },
  {
   "cell_type": "markdown",
   "metadata": {},
   "source": [
    "Your designed Top7 (PDB ID: 1QYS) decoys are visualized below with residue numbers designed during the simulation shown.\n",
    "\n",
    "There are 108 resulting decoys: 6 (`kwargs`) x 2 (`nstruct`) x 3 (`protocol1`) x 1 (`protocol2`) x 3 (`protocol1`)"
   ]
  },
  {
   "cell_type": "code",
   "execution_count": 10,
   "metadata": {},
   "outputs": [],
   "source": [
    "if not os.getenv(\"DEBUG\"):\n",
    "    assert 6 * 2 * 3 * 1 * 3 == len(results)"
   ]
  },
  {
   "cell_type": "code",
   "execution_count": 11,
   "metadata": {},
   "outputs": [
    {
     "data": {
      "text/html": [
       "<script>$('.output_scroll').removeClass('output_scroll')</script>"
      ],
      "text/plain": [
       "<IPython.core.display.HTML object>"
      ]
     },
     "metadata": {},
     "output_type": "display_data"
    },
    {
     "data": {
      "text/html": [
       "<script>$('.output_scroll').removeClass('output_scroll')</script>"
      ],
      "text/plain": [
       "<IPython.core.display.HTML object>"
      ]
     },
     "metadata": {},
     "output_type": "display_data"
    },
    {
     "data": {
      "text/html": [
       "<script>$('.output_scroll').removeClass('output_scroll')</script>"
      ],
      "text/plain": [
       "<IPython.core.display.HTML object>"
      ]
     },
     "metadata": {},
     "output_type": "display_data"
    },
    {
     "data": {
      "text/html": [
       "<script>$('.output_scroll').removeClass('output_scroll')</script>"
      ],
      "text/plain": [
       "<IPython.core.display.HTML object>"
      ]
     },
     "metadata": {},
     "output_type": "display_data"
    },
    {
     "data": {
      "text/html": [
       "<script>$('.output_scroll').removeClass('output_scroll')</script>"
      ],
      "text/plain": [
       "<IPython.core.display.HTML object>"
      ]
     },
     "metadata": {},
     "output_type": "display_data"
    },
    {
     "data": {
      "application/vnd.jupyter.widget-view+json": {
       "model_id": "9316d1f48c174c03910b09f07ef9bc6e",
       "version_major": 2,
       "version_minor": 0
      },
      "text/plain": [
       "interactive(children=(IntSlider(value=0, continuous_update=False, description='Decoys', max=107), Output()), _…"
      ]
     },
     "metadata": {},
     "output_type": "display_data"
    },
    {
     "data": {
      "text/plain": [
       "<function pyrosetta.distributed.viewer.core.Viewer.show.<locals>.view(i=0)>"
      ]
     },
     "execution_count": 11,
     "metadata": {},
     "output_type": "execute_result"
    }
   ],
   "source": [
    "if not os.getenv(\"DEBUG\"):\n",
    "    resis = pyrosetta.rosetta.core.select.residue_selector.ResidueIndexSelector(\"22A,23A,24A,25A,26A,27A\")\n",
    "\n",
    "    view = viewer.init(packed_poses, window_size=(800, 600))\n",
    "    view.add(viewer.setStyle())\n",
    "    view.add(viewer.setStyle(residue_selector=resis, colorscheme=\"whiteCarbon\", radius=0.35))\n",
    "    view.add(viewer.setHydrogenBonds())\n",
    "    view.add(viewer.setHydrogens(polar_only=True))\n",
    "    view()"
   ]
  },
  {
   "cell_type": "markdown",
   "metadata": {},
   "source": [
    "### Congrats! \n",
    "You have successfully run a multiple-protocol PyRosetta trajectory with `PyRosettaCluster`!"
   ]
  },
  {
   "cell_type": "markdown",
   "metadata": {},
   "source": [
    "<!--NAVIGATION-->\n",
    "< [PyRosettaCluster Tutorial 2. Multiple protocols](http://nbviewer.jupyter.org/github/RosettaCommons/PyRosetta.notebooks/blob/master/notebooks/16.08-PyRosettaCluster-Multiple-protocols.ipynb) | [Contents](toc.ipynb) | [Index](index.ipynb) | [PyRosettaCluster Tutorial 4. Ligand params](http://nbviewer.jupyter.org/github/RosettaCommons/PyRosetta.notebooks/blob/master/notebooks/16.10-PyRosettaCluster-Ligand-params.ipynb) ><p><a href=\"https://colab.research.google.com/github/RosettaCommons/PyRosetta.notebooks/blob/master/notebooks/16.09-PyRosettaCluster-Multiple-decoys.ipynb\"><img align=\"left\" src=\"https://colab.research.google.com/assets/colab-badge.svg\" alt=\"Open in Colab\" title=\"Open in Google Colaboratory\"></a>"
   ]
  }
 ],
 "metadata": {
  "kernelspec": {
   "display_name": "Python [conda env:PyRosetta.notebooks]",
   "language": "python",
   "name": "pyrosetta.notebooks"
  },
  "language_info": {
   "codemirror_mode": {
    "name": "ipython",
    "version": 3
   },
   "file_extension": ".py",
   "mimetype": "text/x-python",
   "name": "python",
   "nbconvert_exporter": "python",
   "pygments_lexer": "ipython3",
   "version": "3.7.6"
  }
 },
 "nbformat": 4,
 "nbformat_minor": 4
}
